{
 "metadata": {
  "name": "",
  "signature": "sha256:b6f98abe733827f8df48c060d1031cf2c9f815887603b23417d9f6e803ad7d3b"
 },
 "nbformat": 3,
 "nbformat_minor": 0,
 "worksheets": [
  {
   "cells": [
    {
     "cell_type": "code",
     "collapsed": false,
     "input": [
      "from pylab import *"
     ],
     "language": "python",
     "metadata": {},
     "outputs": [
      {
       "output_type": "stream",
       "stream": "stdout",
       "text": [
        "Populating the interactive namespace from numpy and matplotlib\n"
       ]
      }
     ],
     "prompt_number": 1
    },
    {
     "cell_type": "code",
     "collapsed": false,
     "input": [
      "from scipy.io import wavfile"
     ],
     "language": "python",
     "metadata": {},
     "outputs": [],
     "prompt_number": 2
    },
    {
     "cell_type": "code",
     "collapsed": false,
     "input": [
      "#Se abre el archivo y se obtiene la frecuencia y la se\u00f1al del sonido generado\n",
      "frecuencia, senal = wavfile.read('nombre.wav')"
     ],
     "language": "python",
     "metadata": {},
     "outputs": [],
     "prompt_number": 3
    },
    {
     "cell_type": "code",
     "collapsed": false,
     "input": [
      "#Genera el el array con la se\u00f1al de la grabacion\n",
      "print senal "
     ],
     "language": "python",
     "metadata": {},
     "outputs": [
      {
       "output_type": "stream",
       "stream": "stdout",
       "text": [
        "[222 217 248 ..., -84 -42  21]\n"
       ]
      }
     ],
     "prompt_number": 4
    },
    {
     "cell_type": "code",
     "collapsed": false,
     "input": [
      "#Genera un rango de frecuencias entre -1 y 1\n",
      "senal=senal/(2.**15)"
     ],
     "language": "python",
     "metadata": {},
     "outputs": [],
     "prompt_number": 5
    },
    {
     "cell_type": "code",
     "collapsed": false,
     "input": [
      "#Halla duracion de la grabacion\n",
      "frec=senal.shape[0]/float(frecuencia)\n",
      "print frec"
     ],
     "language": "python",
     "metadata": {},
     "outputs": [
      {
       "output_type": "stream",
       "stream": "stdout",
       "text": [
        "2.73066666667\n"
       ]
      }
     ],
     "prompt_number": 6
    },
    {
     "cell_type": "code",
     "collapsed": false,
     "input": [
      "#Se obtine el tiempo de grabacion en el intervalo de tiempo de 0 al total de observaciones (frames)\n",
      "timeArray = arange(0,senal.shape[0], 1)\n",
      "timeArray=timeArray/float(frecuencia)\n",
      "print timeArray"
     ],
     "language": "python",
     "metadata": {},
     "outputs": [
      {
       "output_type": "stream",
       "stream": "stdout",
       "text": [
        "[  0.00000000e+00   2.08333333e-05   4.16666667e-05 ...,   2.73060417e+00\n",
        "   2.73062500e+00   2.73064583e+00]\n"
       ]
      }
     ],
     "prompt_number": 7
    },
    {
     "cell_type": "code",
     "collapsed": false,
     "input": [
      "#Grafica\n",
      "plot(timeArray, senal,'k',label=r\"$Mi$ $voz$\")\n",
      "ylabel('$Amplitud$', fontsize=18)\n",
      "xlabel('$Time$ $(s)$', fontsize=18)\n",
      "plt.title('$SONIDO$'' ''$ORIGINAL$'' ''$GENERADO$', fontsize=20)\n",
      "legend(loc=0)\n",
      "savefig(\"mi_voz.png\")\n",
      "show()"
     ],
     "language": "python",
     "metadata": {},
     "outputs": [
      {
       "metadata": {},
       "output_type": "display_data",
       "png": "[encoded data removed]",
       "text": [
        "<matplotlib.figure.Figure at 0x7fd2cf37bd10>"
       ]
      }
     ],
     "prompt_number": 8
    },
    {
     "cell_type": "code",
     "collapsed": false,
     "input": [
      "Frecuencia_fundamental=1/frec\n",
      "print Frecuencia_fundamental"
     ],
     "language": "python",
     "metadata": {},
     "outputs": [
      {
       "output_type": "stream",
       "stream": "stdout",
       "text": [
        "0.3662109375\n"
       ]
      }
     ],
     "prompt_number": 11
    },
    {
     "cell_type": "code",
     "collapsed": false,
     "input": [],
     "language": "python",
     "metadata": {},
     "outputs": []
    }
   ],
   "metadata": {}
  }
 ]
}