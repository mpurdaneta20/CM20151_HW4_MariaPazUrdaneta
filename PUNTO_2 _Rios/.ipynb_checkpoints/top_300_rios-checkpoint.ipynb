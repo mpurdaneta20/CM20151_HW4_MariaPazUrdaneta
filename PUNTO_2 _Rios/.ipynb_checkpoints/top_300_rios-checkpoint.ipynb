{
 "metadata": {
  "name": "",
  "signature": "sha256:1139e73d3aa34c089497349aee7fd268dc82748fe5b65e28734486f41c534c1e"
 },
 "nbformat": 3,
 "nbformat_minor": 0,
 "worksheets": [
  {
   "cells": [
    {
     "cell_type": "code",
     "collapsed": false,
     "input": [
      "#PUNTO 2A\n",
      "import urllib\n",
      "import os\n",
      "from os import system\n",
      "import csv\n",
      "import numpy as np"
     ],
     "language": "python",
     "metadata": {},
     "outputs": [],
     "prompt_number": 1
    },
    {
     "cell_type": "code",
     "collapsed": false,
     "input": [
      "urllib.urlretrieve(\"http://www.cgd.ucar.edu/cas/catalog/surface/dai-runoff/coastal-stns-byVol-updated-oct2007.txt\",\"RIOS.txt\")"
     ],
     "language": "python",
     "metadata": {},
     "outputs": [
      {
       "metadata": {},
       "output_type": "pyout",
       "prompt_number": 2,
       "text": [
        "('RIOS.txt', <httplib.HTTPMessage instance at 0x7fb0429e4680>)"
       ]
      }
     ],
     "prompt_number": 2
    },
    {
     "cell_type": "code",
     "collapsed": false,
     "input": [
      "os.system(\"sed -i 's/,//g' RIOS.txt\")\n",
      "os.system(\"sed '621d' RIOS.txt\")"
     ],
     "language": "python",
     "metadata": {},
     "outputs": [
      {
       "metadata": {},
       "output_type": "pyout",
       "prompt_number": 3,
       "text": [
        "0"
       ]
      }
     ],
     "prompt_number": 3
    },
    {
     "cell_type": "code",
     "collapsed": false,
     "input": [
      "data=np.genfromtxt('RIOS.txt',dtype=None,skiprows=1,usecols=(1, 2, 3, 4, 5, 6, 7, 8, 9, 10, 11, 12, 13))"
     ],
     "language": "python",
     "metadata": {},
     "outputs": [],
     "prompt_number": 4
    },
    {
     "cell_type": "code",
     "collapsed": false,
     "input": [
      "RIOS=data[0:299]"
     ],
     "language": "python",
     "metadata": {},
     "outputs": [],
     "prompt_number": 5
    },
    {
     "cell_type": "code",
     "collapsed": false,
     "input": [
      "csvfile = open('top_300_rios.csv', 'wb')\n",
      "csvwriter = csv.writer(csvfile)\n",
      "for item in RIOS:\n",
      "    csvwriter.writerow(item)\n",
      "csvfile.close()"
     ],
     "language": "python",
     "metadata": {},
     "outputs": [],
     "prompt_number": 6
    },
    {
     "cell_type": "code",
     "collapsed": false,
     "input": [
      "os.system(\"rm RIOS.txt\")"
     ],
     "language": "python",
     "metadata": {},
     "outputs": [
      {
       "metadata": {},
       "output_type": "pyout",
       "prompt_number": 7,
       "text": [
        "0"
       ]
      }
     ],
     "prompt_number": 7
    },
    {
     "cell_type": "code",
     "collapsed": false,
     "input": [],
     "language": "python",
     "metadata": {},
     "outputs": []
    }
   ],
   "metadata": {}
  }
 ]
}