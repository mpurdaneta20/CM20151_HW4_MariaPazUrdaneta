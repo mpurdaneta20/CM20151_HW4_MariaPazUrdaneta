{
 "metadata": {
  "name": "",
  "signature": "sha256:1139e73d3aa34c089497349aee7fd268dc82748fe5b65e28734486f41c534c1e"
 },
 "nbformat": 3,
 "nbformat_minor": 0,
 "worksheets": [
  {
   "cells": [
    {
     "cell_type": "code",
     "collapsed": false,
     "input": [
      "#PUNTO 2A\n",
      "import urllib\n",
      "from os import system\n",
      "import csv"
     ],
     "language": "python",
     "metadata": {},
     "outputs": [],
     "prompt_number": 49
    },
    {
     "cell_type": "code",
     "collapsed": false,
     "input": [
      "urllib.urlretrieve(\"http://www.cgd.ucar.edu/cas/catalog/surface/dai-runoff/coastal-stns-byVol-updated-oct2007.txt\",\"RIOS.txt\")"
     ],
     "language": "python",
     "metadata": {},
     "outputs": [
      {
       "metadata": {},
       "output_type": "pyout",
       "prompt_number": 50,
       "text": [
        "('RIOS.txt', <httplib.HTTPMessage instance at 0x7fb800f6bea8>)"
       ]
      }
     ],
     "prompt_number": 50
    },
    {
     "cell_type": "code",
     "collapsed": false,
     "input": [
      "os.system(\"sed -i 's/,//g' RIOS.txt\")\n",
      "os.system(\"sed '621d' RIOS.txt\")"
     ],
     "language": "python",
     "metadata": {},
     "outputs": [
      {
       "metadata": {},
       "output_type": "pyout",
       "prompt_number": 51,
       "text": [
        "0"
       ]
      }
     ],
     "prompt_number": 51
    },
    {
     "cell_type": "code",
     "collapsed": false,
     "input": [
      "data=np.genfromtxt('RIOS.txt',dtype=None,skiprows=1,usecols=(1, 2, 3, 4, 5, 6, 7, 8, 9, 10, 11, 12, 13))\n"
     ],
     "language": "python",
     "metadata": {},
     "outputs": [],
     "prompt_number": 52
    },
    {
     "cell_type": "code",
     "collapsed": false,
     "input": [
      "csvfile = open('Rios.csv', 'wb')\n",
      "csvwriter = csv.writer(csvfile)\n",
      "for item in data:\n",
      "    csvwriter.writerow(item)\n",
      "csvfile.close()"
     ],
     "language": "python",
     "metadata": {},
     "outputs": [],
     "prompt_number": 53
    },
    {
     "cell_type": "code",
     "collapsed": false,
     "input": [
      "from pandas import *\n",
      "df=pandas.read_csv('Rios.csv', sep=',',header=None)\n",
      "df=df.sort(columns=4,ascending=False)"
     ],
     "language": "python",
     "metadata": {},
     "outputs": [],
     "prompt_number": 54
    },
    {
     "cell_type": "code",
     "collapsed": false,
     "input": [
      "#La columna 4 indica el la taza de flujo de agua.\n",
      "RIOS=df[0:299]\n",
      "#print RIOS"
     ],
     "language": "python",
     "metadata": {},
     "outputs": [],
     "prompt_number": 55
    },
    {
     "cell_type": "code",
     "collapsed": false,
     "input": [
      "RIOS.to_csv(\"top_300_rios.csv\", sep=' ', header=False, index=False, mode='w')"
     ],
     "language": "python",
     "metadata": {},
     "outputs": [],
     "prompt_number": 56
    },
    {
     "cell_type": "code",
     "collapsed": false,
     "input": [
      "os.system(\"rm RIOS.txt\")\n",
      "os.system(\"rm Rios.csv\")"
     ],
     "language": "python",
     "metadata": {},
     "outputs": [
      {
       "metadata": {},
       "output_type": "pyout",
       "prompt_number": 57,
       "text": [
        "0"
       ]
      }
     ],
     "prompt_number": 57
    }
   ],
   "metadata": {}
  }
 ]
}