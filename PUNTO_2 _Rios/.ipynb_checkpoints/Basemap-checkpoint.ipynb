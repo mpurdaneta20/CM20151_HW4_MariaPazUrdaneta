{
 "metadata": {
  "name": ""
 },
 "nbformat": 3,
 "nbformat_minor": 0,
 "worksheets": [
  {
   "cells": [
    {
     "cell_type": "code",
     "collapsed": false,
     "input": [
      "from pylab import *"
     ],
     "language": "python",
     "metadata": {},
     "outputs": [],
     "prompt_number": 5
    },
    {
     "cell_type": "code",
     "collapsed": false,
     "input": [
      "from mpl_toolkits.basemap import Basemap\n",
      "import csv\n",
      "from pandas import *"
     ],
     "language": "python",
     "metadata": {},
     "outputs": [],
     "prompt_number": 6
    },
    {
     "cell_type": "code",
     "collapsed": false,
     "input": [
      "File = open('top_300_rios.csv', 'r+')\n",
      "csvFile = csv.reader(File)\n",
      "RIOS=[]\n",
      "for i in range(150):\n",
      "    R=csvFile.next()\n",
      "    RIOS.append(R)\n",
      "\n",
      "RIOS=pandas.read_csv('top_300_rios.csv', sep=' ',header=None, usecols=[1,2])\n",
      "\n",
      "LON=[]\n",
      "for item in RIOS[1]:\n",
      "    LON.append(float(item))\n",
      "#print LON\n",
      "\n",
      "LAT=[]\n",
      "for item in RIOS[2]:\n",
      "    LAT.append(float(item))\n",
      "#print LAT"
     ],
     "language": "python",
     "metadata": {},
     "outputs": [],
     "prompt_number": 32
    },
    {
     "cell_type": "code",
     "collapsed": false,
     "input": [
      "map = Basemap(projection='kav7',lon_0=180)\n",
      "# plot linea costera, meridianos y paralelos\n",
      "map.drawcoastlines()\n",
      "map.drawparallels(np.arange(-90,90,30),labels=[1,0,0,0])\n",
      "map.drawmeridians(np.arange(map.lonmin,map.lonmax+30,60),labels=[0,0,0,1])\n",
      "lons = LON\n",
      "lats = LAT\n",
      "x,y = map(lons, lats)\n",
      "map.plot(x, y, 'bo', markersize=4)\n",
      "show()"
     ],
     "language": "python",
     "metadata": {},
     "outputs": [],
     "prompt_number": 33
    },
    {
     "cell_type": "code",
     "collapsed": false,
     "input": [],
     "language": "python",
     "metadata": {},
     "outputs": []
    }
   ],
   "metadata": {}
  }
 ]
}