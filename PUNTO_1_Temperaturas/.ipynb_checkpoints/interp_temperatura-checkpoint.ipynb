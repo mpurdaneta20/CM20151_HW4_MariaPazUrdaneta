{
 "metadata": {
  "name": ""
 },
 "nbformat": 3,
 "nbformat_minor": 0,
 "worksheets": [
  {
   "cells": [
    {
     "cell_type": "code",
     "collapsed": false,
     "input": [
      "#PUNTO 1B\n",
      "from pylab import *"
     ],
     "language": "python",
     "metadata": {},
     "outputs": [],
     "prompt_number": 19
    },
    {
     "cell_type": "code",
     "collapsed": false,
     "input": [
      "import csv\n",
      "import matplotlib.pyplot as plt\n",
      "from pandas import *"
     ],
     "language": "python",
     "metadata": {},
     "outputs": [],
     "prompt_number": 55
    },
    {
     "cell_type": "code",
     "collapsed": false,
     "input": [
      "df_bog=pandas.read_csv('Bogota.csv', sep=' ')\n",
      "df_bquilla=pandas.read_csv('Barranquilla.csv', sep=' ')\n",
      "df_bucara=pandas.read_csv('Bucaramanga.csv', sep=' ')\n",
      "df_cali=pandas.read_csv('Cali.csv', sep=' ')\n",
      "df_ipiales=pandas.read_csv('Ipiales.csv', sep=' ')\n",
      "\n",
      "F_bog=df_bog['yr']\n",
      "F_bquilla=df_bquilla['yr']\n",
      "F_bucara=df_bucara['yr']\n",
      "F_cali=df_cali['yr']\n",
      "F_ipiales=df_ipiales['yr']\n",
      "\n",
      "Temp_bog=df_bog['Temperatura']\n",
      "Temp_bquilla=df_bquilla['Temperatura']\n",
      "Temp_bucara=df_bucara['Temperatura']\n",
      "Temp_cali=df_cali['Temperatura']\n",
      "Temp_ipiales=df_ipiales['Temperatura']\n",
      "\n",
      "L=range(len(Temp_bog))"
     ],
     "language": "python",
     "metadata": {},
     "outputs": [],
     "prompt_number": 42
    },
    {
     "cell_type": "code",
     "collapsed": false,
     "input": [
      "#ORIGINAL\n",
      "plot(F_bog,Temp_bog,label=r\"$Bogota$\")\n",
      "plot(F_bquilla,Temp_bquilla,label=r\"$Baranquilla$\")\n",
      "plot(F_bucara,Temp_bucara,label=r\"$Bucaramanga$\")\n",
      "plot(F_cali,Temp_cali,label=r\"$Cali$\")\n",
      "plot(F_ipiales,Temp_ipiales,label=r\"$Ipiales$\")\n",
      "legend(loc=0, fontsize=7)\n",
      "title(\"Temperatura ciudades de Colombia\")\n",
      "ylabel('Temperatura')\n",
      "xlabel('Yr')\n",
      "show()"
     ],
     "language": "python",
     "metadata": {},
     "outputs": [],
     "prompt_number": 22
    },
    {
     "cell_type": "code",
     "collapsed": false,
     "input": [
      "#INTERPOLACION LINEAL\n",
      "LIN_bog=Series(Temp_bog).interpolate()\n",
      "LIN_bquilla=Series(Temp_bquilla).interpolate()\n",
      "LIN_bucara=Series(Temp_bucara).interpolate()\n",
      "LIN_cali=Series(Temp_cali).interpolate()\n",
      "LIN_ipiales=Series(Temp_ipiales).interpolate()"
     ],
     "language": "python",
     "metadata": {},
     "outputs": [],
     "prompt_number": 23
    },
    {
     "cell_type": "code",
     "collapsed": false,
     "input": [
      "plot(F_bog,LIN_bog,label=r\"$Bogota$\")\n",
      "plot(F_bquilla,LIN_bquilla,label=r\"$Baranquilla$\")\n",
      "plot(F_bucara,LIN_bucara,label=r\"$Bucaramanga$\")\n",
      "plot(F_cali,LIN_cali,label=r\"$Cali$\")\n",
      "plot(F_ipiales,LIN_ipiales,label=r\"$Ipiales$\")\n",
      "legend(loc=0, fontsize=7)\n",
      "title(\"Temperatura ciudades de Colombia - Interp. Lineal\")\n",
      "ylabel('Temperatura')\n",
      "xlabel('Yr')\n",
      "show()"
     ],
     "language": "python",
     "metadata": {},
     "outputs": [],
     "prompt_number": 24
    },
    {
     "cell_type": "code",
     "collapsed": false,
     "input": [
      "#INTERPOLACION POLINOMICA (Grado 2)\n",
      "POL_bog=Series.interpolate(Temp_bog,method='quadratic')\n",
      "POL_bquilla=Series.interpolate(Temp_bquilla, method='quadratic')\n",
      "POL_bucara=Series.interpolate(Temp_bucara,method='quadratic')\n",
      "POL_ipiales=Series.interpolate(Temp_ipiales, method='quadratic')\n",
      "POL_cali=Series.interpolate(Temp_cali,method='quadratic')"
     ],
     "language": "python",
     "metadata": {},
     "outputs": [],
     "prompt_number": 61
    },
    {
     "cell_type": "code",
     "collapsed": false,
     "input": [
      "plot(F_bog,POL_bog,label=r\"$Bogota$\")\n",
      "plot(F_bquilla,POL_bquilla,label=r\"$Baranquilla$\")\n",
      "plot(F_bucara,POL_bucara,label=r\"$Bucaramanga$\")\n",
      "plot(F_cali,POL_cali,label=r\"$Cali$\")\n",
      "plot(F_ipiales,POL_ipiales,label=r\"$Ipiales$\")\n",
      "legend(loc=0, fontsize=7)\n",
      "title(\"Temperatura ciudades de Colombia - Interp. Cuadratica\")\n",
      "ylabel('Temperatura')\n",
      "xlabel('Yr')\n",
      "show()"
     ],
     "language": "python",
     "metadata": {},
     "outputs": [],
     "prompt_number": 62
    },
    {
     "cell_type": "code",
     "collapsed": false,
     "input": [
      "#Interpolacion por splines\n",
      "SP_bog=Temp_bog.interpolate(method='spline', order=3)\n",
      "SP_bquilla=Temp_bquilla.interpolate(method='spline', order=3)\n",
      "SP_bucara=Temp_bucara.interpolate(method='spline', order=3)\n",
      "SP_ipiales=Temp_ipiales.interpolate(method='spline', order=3)\n",
      "SP_cali=Temp_cali.interpolate(method='spline', order=3)"
     ],
     "language": "python",
     "metadata": {},
     "outputs": [],
     "prompt_number": 63
    },
    {
     "cell_type": "code",
     "collapsed": false,
     "input": [
      "plot(F_bog,SP_bog,label=r\"$Bogota$\")\n",
      "plot(F_bquilla,SP_bquilla,label=r\"$Baranquilla$\")\n",
      "plot(F_bucara,SP_bucara,label=r\"$Bucaramanga$\")\n",
      "plot(F_cali,SP_cali,label=r\"$Cali$\")\n",
      "plot(F_ipiales,SP_ipiales,label=r\"$Ipiales$\")\n",
      "legend(loc=0, fontsize=7)\n",
      "title(\"Temperatura ciudades de Colombia - Interp. Spline\")\n",
      "ylabel('Temperatura')\n",
      "xlabel('Yr')\n",
      "show()"
     ],
     "language": "python",
     "metadata": {},
     "outputs": [],
     "prompt_number": 64
    },
    {
     "cell_type": "code",
     "collapsed": false,
     "input": [
      "#Conclusion: Mejor predictor \n",
      "#Aunque en realidad el primer grafico de la serie de tiempo pertenece a una distribucion discreta se genera con lineas (continua con saltos) para que sea mas simple la comparacion entre el original y la extrapolacion de datos que rellenaria la serie con datos estimados a partir de los datos originales.\n",
      "\n",
      "#A simple vista el que mejor parece ajustarse a los datos  es el metodo de spline, seguido por el lineal y finalmente el cuadratico. Con respecto al metodo cuadratico se observa que arroja datos muy incoerentes que se salen del rango de Temperaturas normales para Colombia\n",
      "\n",
      "plot(F_bog,LIN_bog,label=r\"$Bogota_LIN$\")\n",
      "plot(F_bog,POL_bog,label=r\"$Bogota_POL$\")\n",
      "plot(F_bog,SP_bog,label=r\"$Bogota_SP$\")\n",
      "\n",
      "legend(loc=0, fontsize=7)\n",
      "title(\"Temperatura ciudades de Colombia - Interp.\")\n",
      "ylabel('Temperatura')\n",
      "xlabel('Yr')\n",
      "show()\n",
      "\n",
      "#Se observa que la interpolacion por spline y la lineal se encuentran en rangos normales y tienen una secuencia consistente entre los datos predichos y los datos dados."
     ],
     "language": "python",
     "metadata": {},
     "outputs": [
      {
       "ename": "TypeError",
       "evalue": "_parse_args_stats() takes at least 3 arguments (2 given)",
       "output_type": "pyerr",
       "traceback": [
        "\u001b[0;31m---------------------------------------------------------------------------\u001b[0m\n\u001b[0;31mTypeError\u001b[0m                                 Traceback (most recent call last)",
        "\u001b[0;32m<ipython-input-86-e264347e636e>\u001b[0m in \u001b[0;36m<module>\u001b[0;34m()\u001b[0m\n\u001b[1;32m     16\u001b[0m \u001b[0;31m#Se observa que la interpolacion por spline y la lineal se encuentran en rangos normales y tienen una secuencia consistente entre los datos predichos y los datos dados.\u001b[0m\u001b[0;34m\u001b[0m\u001b[0;34m\u001b[0m\u001b[0m\n\u001b[1;32m     17\u001b[0m \u001b[0;32mfrom\u001b[0m \u001b[0mscipy\u001b[0m\u001b[0;34m.\u001b[0m\u001b[0mstats\u001b[0m \u001b[0;32mimport\u001b[0m \u001b[0mf\u001b[0m\u001b[0;34m\u001b[0m\u001b[0m\n\u001b[0;32m---> 18\u001b[0;31m \u001b[0mmean\u001b[0m\u001b[0;34m,\u001b[0m \u001b[0mvar\u001b[0m\u001b[0;34m,\u001b[0m \u001b[0mskew\u001b[0m\u001b[0;34m,\u001b[0m \u001b[0mkurt\u001b[0m \u001b[0;34m=\u001b[0m \u001b[0mf\u001b[0m\u001b[0;34m.\u001b[0m\u001b[0mstats\u001b[0m\u001b[0;34m(\u001b[0m\u001b[0mLIN_bog\u001b[0m\u001b[0;34m)\u001b[0m\u001b[0;34m\u001b[0m\u001b[0m\n\u001b[0m",
        "\u001b[0;32m/usr/lib/python2.7/dist-packages/scipy/stats/distributions.pyc\u001b[0m in \u001b[0;36mstats\u001b[0;34m(self, *args, **kwds)\u001b[0m\n\u001b[1;32m   1589\u001b[0m \u001b[0;34m\u001b[0m\u001b[0m\n\u001b[1;32m   1590\u001b[0m         \"\"\"\n\u001b[0;32m-> 1591\u001b[0;31m         \u001b[0margs\u001b[0m\u001b[0;34m,\u001b[0m \u001b[0mloc\u001b[0m\u001b[0;34m,\u001b[0m \u001b[0mscale\u001b[0m\u001b[0;34m,\u001b[0m \u001b[0mmoments\u001b[0m \u001b[0;34m=\u001b[0m \u001b[0mself\u001b[0m\u001b[0;34m.\u001b[0m\u001b[0m_parse_args_stats\u001b[0m\u001b[0;34m(\u001b[0m\u001b[0;34m*\u001b[0m\u001b[0margs\u001b[0m\u001b[0;34m,\u001b[0m \u001b[0;34m**\u001b[0m\u001b[0mkwds\u001b[0m\u001b[0;34m)\u001b[0m\u001b[0;34m\u001b[0m\u001b[0m\n\u001b[0m\u001b[1;32m   1592\u001b[0m         \u001b[0mloc\u001b[0m\u001b[0;34m,\u001b[0m \u001b[0mscale\u001b[0m \u001b[0;34m=\u001b[0m \u001b[0mmap\u001b[0m\u001b[0;34m(\u001b[0m\u001b[0masarray\u001b[0m\u001b[0;34m,\u001b[0m \u001b[0;34m(\u001b[0m\u001b[0mloc\u001b[0m\u001b[0;34m,\u001b[0m \u001b[0mscale\u001b[0m\u001b[0;34m)\u001b[0m\u001b[0;34m)\u001b[0m\u001b[0;34m\u001b[0m\u001b[0m\n\u001b[1;32m   1593\u001b[0m         \u001b[0margs\u001b[0m \u001b[0;34m=\u001b[0m \u001b[0mtuple\u001b[0m\u001b[0;34m(\u001b[0m\u001b[0mmap\u001b[0m\u001b[0;34m(\u001b[0m\u001b[0masarray\u001b[0m\u001b[0;34m,\u001b[0m \u001b[0margs\u001b[0m\u001b[0;34m)\u001b[0m\u001b[0;34m)\u001b[0m\u001b[0;34m\u001b[0m\u001b[0m\n",
        "\u001b[0;31mTypeError\u001b[0m: _parse_args_stats() takes at least 3 arguments (2 given)"
       ]
      }
     ],
     "prompt_number": 86
    },
    {
     "cell_type": "code",
     "collapsed": false,
     "input": [
      "#Los archivos .csv para cada una de las ciudades son generados a partir de el script .R hay que tener cuidado porque en ocasiones no se guardan en la carpeta en la cual se esta trabajando\n",
      "#!(\"rm Bogota.csv\")\n",
      "#!(\"rm Barranquilla.csv\")\n",
      "#!(\"rm Bucaramanga.csv\")\n",
      "#!(\"rm Cali.csv\")\n",
      "#!(\"rm Ipiales.csv\")"
     ],
     "language": "python",
     "metadata": {},
     "outputs": []
    }
   ],
   "metadata": {}
  }
 ]
}